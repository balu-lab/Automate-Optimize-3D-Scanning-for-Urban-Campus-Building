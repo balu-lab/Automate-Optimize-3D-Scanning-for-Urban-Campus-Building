{
 "cells": [
  {
   "cell_type": "markdown",
   "id": "a5e478ce-a695-4822-890c-f3a9aea14fb8",
   "metadata": {},
   "source": [
    "## Testing single object mesh creation (optimal quality not a concern for this deliverable)"
   ]
  },
  {
   "cell_type": "code",
   "execution_count": 4,
   "id": "15f5d734-3c8c-4da8-b4a5-b41253af6d48",
   "metadata": {},
   "outputs": [],
   "source": [
    "import math\n",
    "import open3d as o3d\n",
    "import pandas as pd\n",
    "import numpy as np\n",
    "import color_palettes as cp\n",
    "import os\n",
    "\n",
    "def object_to_mesh(fp):\n",
    "    \n",
    "    def change_background_to_black(vis):\n",
    "        opt = vis.get_render_option()\n",
    "        opt.background_color = np.asarray([0, 0, 0])\n",
    "        return False\n",
    "    \n",
    "    key_to_callback = {}\n",
    "    key_to_callback[ord(\"K\")] = change_background_to_black\n",
    "\n",
    "    # file reading\n",
    "    pcd = o3d.io.read_point_cloud(fp)\n",
    "    # normal estimation\n",
    "    pcd.estimate_normals(search_param=o3d.geometry.KDTreeSearchParamHybrid(radius=0.1, max_nn=30))\n",
    "    # ball pivoting mesh\n",
    "    point_cloud_array = np.asarray(pcd.points)\n",
    "    min_xyz = point_cloud_array.min(axis=0)\n",
    "    max_xyz = point_cloud_array.max(axis=0)\n",
    "    min_x, min_y, min_z = min_xyz\n",
    "    max_x, max_y, max_z = max_xyz\n",
    "    try:\n",
    "        max_dim = round(math.sqrt((max_x-min_x)**2+(max_y-min_y)**2+(max_z-min_z)**2))\n",
    "        start_radius = round(max_dim**(1/16)/max_dim, 2)\n",
    "        stop_radius = round(max_dim**(5/8))\n",
    "    except:\n",
    "        start_radius = 0.1\n",
    "        stop_radius = 3\n",
    "    radii = np.linspace(start=start_radius, stop=stop_radius, num=25)\n",
    "    mesh = o3d.geometry.TriangleMesh.create_from_point_cloud_ball_pivoting(pcd, o3d.utility.DoubleVector(radii))\n",
    "    \n",
    "    out_fp = fp[:-4] + \"_mesh.ply\"\n",
    "    o3d.io.write_triangle_mesh(out_fp, mesh)\n"
   ]
  },
  {
   "cell_type": "code",
   "execution_count": null,
   "id": "2956cc3a-0fc8-411c-952a-42b25e2b7caa",
   "metadata": {},
   "outputs": [],
   "source": [
    "base_dir = 'Objects'\n",
    "\n",
    "# List all objects (files and subdirectories) in the directory\n",
    "objects = os.listdir(base_dir)\n",
    "\n",
    "# iterating through each scene object to create a mesh\n",
    "for obj in objects:\n",
    "    if obj != \".ipynb_checkpoints\": \n",
    "        obj_path = os.path.join(base_dir, obj)\n",
    "        object_to_mesh(obj_path)"
   ]
  },
  {
   "cell_type": "code",
   "execution_count": null,
   "id": "c286ffd3-6bb8-4ada-a1d1-d3ee63e50439",
   "metadata": {},
   "outputs": [],
   "source": [
    "vis = o3d.visualization.Visualizer()\n",
    "vis.create_window()\n",
    "\n",
    "for obj in objects:\n",
    "    if obj[-9:] == \"_mesh.ply\":\n",
    "        curr_mesh = o3d.io.read_triangle_mesh(obj)\n",
    "        vis.add_geometry(curr_mesh)\n",
    "\n",
    "# Adjust the camera view or perspective (optional)\n",
    "view_control = vis.get_view_control()\n",
    "view_control.set_lookat([0, 0, 0])  # Set the look-at point\n",
    "view_control.set_up([0, 0, 1])     # Set the up vector\n",
    "\n",
    "# Display the scene\n",
    "vis.run()\n",
    "vis.destroy_window()\n"
   ]
  },
  {
   "cell_type": "code",
   "execution_count": null,
   "id": "46ba08f5-4c95-4559-a19e-fd9c2d7c27e0",
   "metadata": {},
   "outputs": [],
   "source": []
  },
  {
   "cell_type": "code",
   "execution_count": null,
   "id": "7e824fbb-35e3-489e-9b11-8bb6f4fb2830",
   "metadata": {},
   "outputs": [],
   "source": []
  },
  {
   "cell_type": "code",
   "execution_count": null,
   "id": "7427b69f-73dc-4d6f-bd4f-5391c1925524",
   "metadata": {},
   "outputs": [],
   "source": []
  }
 ],
 "metadata": {
  "kernelspec": {
   "display_name": "Open3D",
   "language": "python",
   "name": "open3d"
  },
  "language_info": {
   "codemirror_mode": {
    "name": "ipython",
    "version": 3
   },
   "file_extension": ".py",
   "mimetype": "text/x-python",
   "name": "python",
   "nbconvert_exporter": "python",
   "pygments_lexer": "ipython3",
   "version": "3.9.18"
  }
 },
 "nbformat": 4,
 "nbformat_minor": 5
}
