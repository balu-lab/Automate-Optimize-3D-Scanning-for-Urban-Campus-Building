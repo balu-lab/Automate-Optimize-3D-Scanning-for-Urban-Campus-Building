{
 "cells": [
  {
   "cell_type": "markdown",
   "id": "4b3ade3d-4508-4d36-99ac-7579d2bbd380",
   "metadata": {},
   "source": [
    "## Example loading the scene\n",
    "- press 'k' to make background black\n",
    "- uncomment option 1 to visualize with skybox"
   ]
  },
  {
   "cell_type": "code",
   "execution_count": null,
   "id": "4d8d60b3-139b-4dd5-b096-fb5d1ebe4f14",
   "metadata": {},
   "outputs": [],
   "source": [
    "import open3d as o3d\n",
    "import numpy as np\n",
    "import os\n",
    "\n",
    "# black backgroud on 'k' key press\n",
    "def change_background_to_black(vis):\n",
    "    opt = vis.get_render_option()\n",
    "    opt.background_color = np.asarray([0, 0, 0])\n",
    "    return False\n",
    "\n",
    "key_to_callback = {}\n",
    "key_to_callback[ord(\"K\")] = change_background_to_black\n",
    "\n",
    "# load scene from file\n",
    "base_dir = \"Objects\"\n",
    "file_name = \"monroe_final_scene.pcd\"\n",
    "file_path = os.path.join(base_dir, file_name)\n",
    "final_scene = o3d.io.read_point_cloud(file_path)\n",
    "\n",
    "# creating an optional bounding box\n",
    "aabb = final_scene.get_axis_aligned_bounding_box() \n",
    "aabb.color = (118/255, 118/255, 118/255)\n",
    "\n",
    "# 1. skybox visualization\n",
    "# o3d.visualization.draw([final_scene, aabb])\n",
    "\n",
    "# 2. black background visualization\n",
    "o3d.visualization.draw_geometries_with_key_callbacks([final_scene, aabb], key_to_callback)"
   ]
  },
  {
   "cell_type": "code",
   "execution_count": null,
   "id": "b0359e4e-8c3d-4c1c-b8c2-6f291c3fe924",
   "metadata": {},
   "outputs": [],
   "source": []
  }
 ],
 "metadata": {
  "kernelspec": {
   "display_name": "Open3D",
   "language": "python",
   "name": "open3d"
  },
  "language_info": {
   "codemirror_mode": {
    "name": "ipython",
    "version": 3
   },
   "file_extension": ".py",
   "mimetype": "text/x-python",
   "name": "python",
   "nbconvert_exporter": "python",
   "pygments_lexer": "ipython3",
   "version": "3.9.18"
  }
 },
 "nbformat": 4,
 "nbformat_minor": 5
}
